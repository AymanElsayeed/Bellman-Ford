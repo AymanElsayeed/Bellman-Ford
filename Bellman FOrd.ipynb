{
 "cells": [
  {
   "cell_type": "code",
   "execution_count": 135,
   "metadata": {},
   "outputs": [],
   "source": [
    "import numpy as np\n",
    "import queue\n",
    "import pdb"
   ]
  },
  {
   "cell_type": "code",
   "execution_count": 136,
   "metadata": {},
   "outputs": [],
   "source": [
    "k={}\n",
    "N=200"
   ]
  },
  {
   "cell_type": "code",
   "execution_count": 137,
   "metadata": {},
   "outputs": [],
   "source": [
    "def Read(fname):\n",
    "    f = open(fname)\n",
    "    lines = f.readlines()\n",
    "    fun = lambda x : ([int(i) for i in x])\n",
    "    for i in range(0,len(lines)):\n",
    "        line = lines[i].split()\n",
    "        k[int(line[0])] = dict(list(map(fun ,[i.split(',') for i in line[1:] ])))\n",
    "    f.close()"
   ]
  },
  {
   "cell_type": "code",
   "execution_count": 138,
   "metadata": {},
   "outputs": [],
   "source": [
    "Nodes =[ i for i in range(1,N+1) ]\n",
    "D = {}\n",
    "Pi = {}"
   ]
  },
  {
   "cell_type": "code",
   "execution_count": 139,
   "metadata": {},
   "outputs": [],
   "source": [
    "def Init(Start):\n",
    "    D[Start] = 0\n",
    "    for node in Nodes:\n",
    "        if node in k[Start].keys():\n",
    "            D[node]=k[Start][node]\n",
    "            Pi[node]= Start\n",
    "        else:\n",
    "            D[node] = np.infty\n",
    "            Pi[node]= None\n",
    "    D[Start] = 0\n",
    "    Pi[Start]=Start"
   ]
  },
  {
   "cell_type": "code",
   "execution_count": 145,
   "metadata": {},
   "outputs": [],
   "source": [
    "def Relax(s,t,w):\n",
    "    if t not in D or D[t] == np.infty:\n",
    "        D[t] = D[s] + w[s][t]\n",
    "        Pi[t]=s\n",
    "    if D[t] >  D[s] + w[s][t]:\n",
    "        D[t] = D[s] + w[s][t]\n",
    "        Pi[t]=s"
   ]
  },
  {
   "cell_type": "code",
   "execution_count": 141,
   "metadata": {},
   "outputs": [],
   "source": [
    "def BellmanFord(Start):\n",
    "    Edges=[]\n",
    "    for snode in k.keys():\n",
    "        for tnode in k[snode]:\n",
    "            Edges.append((snode,tnode))\n",
    "    Init(Start)\n",
    "    for i in range(0,len(Nodes)):\n",
    "        for edge in Edges:\n",
    "            u=edge[0]\n",
    "            v=edge[1]\n",
    "            Relax(u,v,k)\n",
    "    for edge in Edges:\n",
    "        u=edge[0]\n",
    "        v=edge[1]\n",
    "        if D[v] > D[u] + k[u][v]:\n",
    "            print('False')"
   ]
  },
  {
   "cell_type": "code",
   "execution_count": null,
   "metadata": {},
   "outputs": [],
   "source": []
  },
  {
   "cell_type": "code",
   "execution_count": 142,
   "metadata": {},
   "outputs": [],
   "source": [
    "Read(\"../Dijkstra/dijkstraData.txt\")"
   ]
  },
  {
   "cell_type": "code",
   "execution_count": 143,
   "metadata": {},
   "outputs": [],
   "source": [
    "BellmanFord(1)"
   ]
  },
  {
   "cell_type": "code",
   "execution_count": null,
   "metadata": {},
   "outputs": [],
   "source": []
  },
  {
   "cell_type": "code",
   "execution_count": null,
   "metadata": {},
   "outputs": [],
   "source": []
  },
  {
   "cell_type": "code",
   "execution_count": 131,
   "metadata": {},
   "outputs": [],
   "source": []
  },
  {
   "cell_type": "code",
   "execution_count": null,
   "metadata": {},
   "outputs": [],
   "source": []
  },
  {
   "cell_type": "code",
   "execution_count": null,
   "metadata": {},
   "outputs": [],
   "source": []
  },
  {
   "cell_type": "code",
   "execution_count": null,
   "metadata": {},
   "outputs": [],
   "source": []
  }
 ],
 "metadata": {
  "kernelspec": {
   "display_name": "Python 3",
   "language": "python",
   "name": "python3"
  },
  "language_info": {
   "codemirror_mode": {
    "name": "ipython",
    "version": 3
   },
   "file_extension": ".py",
   "mimetype": "text/x-python",
   "name": "python",
   "nbconvert_exporter": "python",
   "pygments_lexer": "ipython3",
   "version": "3.6.3"
  }
 },
 "nbformat": 4,
 "nbformat_minor": 2
}
